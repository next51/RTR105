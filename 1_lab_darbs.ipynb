{
 "cells": [
  {
   "cell_type": "code",
   "execution_count": 2,
   "metadata": {},
   "outputs": [],
   "source": [
    "from __future__ import division\n",
    "import math as m"
   ]
  },
  {
   "cell_type": "code",
   "execution_count": 3,
   "metadata": {},
   "outputs": [
    {
     "name": "stdout",
     "output_type": "stream",
     "text": [
      "Ievadi argumentu (x): 2\n"
     ]
    }
   ],
   "source": [
    "x = 1. * float(input(\"Ievadi argumentu (x): \"))\n",
    "y = m.cos(x)**2"
   ]
  },
  {
   "cell_type": "code",
   "execution_count": 4,
   "metadata": {},
   "outputs": [
    {
     "name": "stdout",
     "output_type": "stream",
     "text": [
      "cos^2(2.00)=0.17\n"
     ]
    }
   ],
   "source": [
    "print(\"cos^2(%.2f)=%.2f\"%(x,y))"
   ]
  },
  {
   "cell_type": "code",
   "execution_count": 5,
   "metadata": {},
   "outputs": [],
   "source": [
    "k = 0\n",
    "a = 1\n",
    "S = a"
   ]
  },
  {
   "cell_type": "code",
   "execution_count": 6,
   "metadata": {},
   "outputs": [
    {
     "name": "stdout",
     "output_type": "stream",
     "text": [
      "a0 = 1.00 S0 = 1.00\n"
     ]
    }
   ],
   "source": [
    "print(\"a%d = %.2f S%d = %.2f\"%(k,a,k,S))"
   ]
  },
  {
   "cell_type": "code",
   "execution_count": 7,
   "metadata": {},
   "outputs": [],
   "source": [
    "while k < 500:\n",
    "    k +=1\n",
    "    R = ((-1)*x**2) / ((2*k-1)*(2*k))\n",
    "    a *= R\n",
    "    S += a"
   ]
  },
  {
   "cell_type": "code",
   "execution_count": 8,
   "metadata": {},
   "outputs": [
    {
     "name": "stdout",
     "output_type": "stream",
     "text": [
      "a500 = 0.00 S500 = 0.17\n"
     ]
    }
   ],
   "source": [
    "if k >= 499:\n",
    "    print(\"a%d = %.2f S%d = %.2f\"%(k,a,k,S*S))"
   ]
  },
  {
   "cell_type": "code",
   "execution_count": 9,
   "metadata": {},
   "outputs": [
    {
     "name": "stdout",
     "output_type": "stream",
     "text": [
      "\n",
      "cos^2(2.00) caur summu: 0.17\n"
     ]
    }
   ],
   "source": [
    "print(\"\\ncos^2(%.2f) caur summu: %.2f\"%(x,S*S))"
   ]
  },
  {
   "cell_type": "code",
   "execution_count": 10,
   "metadata": {},
   "outputs": [
    {
     "name": "stdout",
     "output_type": "stream",
     "text": [
      "\t \t 500\n",
      "\t \t ______\n",
      "\t \t \\ \t k\n",
      "\t \t \\ \t (-1) \t 2*k\n",
      "cos(2.00)\t = > \t ___________ \t * x\n",
      "\t \t / \t (2k)!\n",
      "\t \t /____\n",
      "\t \t k=0\n",
      "\n",
      "\n",
      "\t \t \t \t (-1)*x*x \n",
      "rekurences reizinatajs: \t _____________\n",
      "\t \t \t \t k*2*(k*2-1)\n",
      "\n",
      "\n",
      "math.cos(2.00)^2 = 0.17\n",
      "cos^2(2.00) = cos(2.00) * cos(2.00) = 0.17\n",
      "\n",
      "\n"
     ]
    }
   ],
   "source": [
    "print(\"\\t \\t 500\")\n",
    "print(\"\\t \\t ______\")\n",
    "print(\"\\t \\t \\ \\t k\")\n",
    "print(\"\\t \\t \\ \\t (-1) \\t 2*k\")\n",
    "print(\"cos(%.2f)\\t = > \\t ___________ \\t * x\"%(x))\n",
    "print(\"\\t \\t / \\t (2k)!\")\n",
    "print(\"\\t \\t /____\")\n",
    "print(\"\\t \\t k=0\\n\\n\")\n",
    "\n",
    "print(\"\\t \\t \\t \\t (-1)*x*x \")\n",
    "print(\"rekurences reizinatajs: \\t _____________\")\n",
    "print(\"\\t \\t \\t \\t k*2*(k*2-1)\\n\\n\")\n",
    "\n",
    "print(\"math.cos(%.2f)^2 = %.2f\"%(x, m.cos(x)**2))\n",
    "print(\"cos^2(%.2f) = cos(%.2f) * cos(%.2f) = %.2f\\n\\n\"%(x,x,x,S*S))"
   ]
  },
  {
   "cell_type": "code",
   "execution_count": null,
   "metadata": {},
   "outputs": [],
   "source": []
  }
 ],
 "metadata": {
  "kernelspec": {
   "display_name": "Python 3",
   "language": "python",
   "name": "python3"
  },
  "language_info": {
   "codemirror_mode": {
    "name": "ipython",
    "version": 3
   },
   "file_extension": ".py",
   "mimetype": "text/x-python",
   "name": "python",
   "nbconvert_exporter": "python",
   "pygments_lexer": "ipython3",
   "version": "3.7.0"
  }
 },
 "nbformat": 4,
 "nbformat_minor": 2
}
